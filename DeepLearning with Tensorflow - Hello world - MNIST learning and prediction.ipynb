{
 "cells": [
  {
   "cell_type": "code",
   "execution_count": 2,
   "metadata": {},
   "outputs": [
    {
     "data": {
      "text/plain": [
       "'1.10.0'"
      ]
     },
     "execution_count": 2,
     "metadata": {},
     "output_type": "execute_result"
    }
   ],
   "source": [
    "import tensorflow as tf\n",
    "tf.__version__"
   ]
  },
  {
   "cell_type": "code",
   "execution_count": 3,
   "metadata": {},
   "outputs": [],
   "source": [
    "mnist = tf.keras.datasets.mnist # Imagenes 28x28 de dígitos (0-9) escritos a mano.\n",
    "(x_train,y_train),(x_test,y_test) = mnist.load_data() #Se carga la data y labels de entrenamiento y prueba."
   ]
  },
  {
   "cell_type": "code",
   "execution_count": 4,
   "metadata": {},
   "outputs": [
    {
     "data": {
      "text/plain": [
       "<Figure size 640x480 with 1 Axes>"
      ]
     },
     "metadata": {},
     "output_type": "display_data"
    }
   ],
   "source": [
    "# Graficando uno de los datos de entrenamiento (una imagen de un dígito escrito a mano)\n",
    "import matplotlib.pyplot as plt\n",
    "plt.imshow(x_train[0], cmap = plt.cm.binary)\n",
    "plt.show()"
   ]
  },
  {
   "cell_type": "code",
   "execution_count": 5,
   "metadata": {},
   "outputs": [],
   "source": [
    "#Conviene normalizar los datos de entrenamiento y de prueba.\n",
    "x_train = tf.keras.utils.normalize(x_train, axis=1)\n",
    "x_test = tf.keras.utils.normalize(x_test, axis=1)"
   ]
  },
  {
   "cell_type": "code",
   "execution_count": 6,
   "metadata": {},
   "outputs": [
    {
     "name": "stdout",
     "output_type": "stream",
     "text": [
      "Epoch 1/3\n",
      "60000/60000 [==============================] - 5s 86us/step - loss: 0.2638 - acc: 0.9235\n",
      "Epoch 2/3\n",
      "60000/60000 [==============================] - 4s 74us/step - loss: 0.1084 - acc: 0.9666\n",
      "Epoch 3/3\n",
      "60000/60000 [==============================] - 4s 73us/step - loss: 0.0741 - acc: 0.9761\n"
     ]
    },
    {
     "data": {
      "text/plain": [
       "<tensorflow.python.keras.callbacks.History at 0x20ad9e8afd0>"
      ]
     },
     "execution_count": 6,
     "metadata": {},
     "output_type": "execute_result"
    }
   ],
   "source": [
    "#Se define la arquitectura de la red neuronal.\n",
    "#Será una red con 2 capas ocultas de 128 neuronas.\n",
    "#La capa de salida tiene 10 neuronas (cada una representa un dígito)\n",
    "model = tf.keras.models.Sequential()\n",
    "model.add(tf.keras.layers.Flatten()) #Se agrega una capa a la entrada para aplanarla (28x28 -> 784x1)\n",
    "model.add(tf.keras.layers.Dense(128, activation=tf.nn.relu))\n",
    "model.add(tf.keras.layers.Dense(128, activation=tf.nn.relu))\n",
    "model.add(tf.keras.layers.Dense(10, activation=tf.nn.softmax))\n",
    "#Se define el optimizador (método de entrenamiento) a utilizar, la función de pérdida a minimizar y la métrica a utilizar para monitorear el entrenamiento.\n",
    "model.compile(optimizer='adam',\n",
    "             loss='sparse_categorical_crossentropy',\n",
    "             metrics=['accuracy'])\n",
    "#Se entrena el modelo\n",
    "model.fit(x_train, y_train, epochs=3)"
   ]
  },
  {
   "cell_type": "code",
   "execution_count": 7,
   "metadata": {},
   "outputs": [
    {
     "name": "stdout",
     "output_type": "stream",
     "text": [
      "10000/10000 [==============================] - 0s 27us/step\n",
      "0.09857446456998586 0.9687\n"
     ]
    }
   ],
   "source": [
    "#Se calcula la pérdida y precisión del modelo con la data de prueba.\n",
    "#Se utiliza data diferente a la de entrenamiento para mirar que tanto realmente el modelo \"aprendió\" y no qué \"memorizó\" (overfit)\n",
    "val_loss, val_acc = model.evaluate(x_test,y_test)\n",
    "print(val_loss, val_acc)"
   ]
  },
  {
   "cell_type": "code",
   "execution_count": 9,
   "metadata": {},
   "outputs": [],
   "source": [
    "#Se pude guardar el modelo en un archivo y cargar desde el archivo\n",
    "model.save('models/epic_num_reader.model')\n",
    "new_model = tf.keras.models.load_model('models/epic_num_reader.model')"
   ]
  },
  {
   "cell_type": "code",
   "execution_count": 28,
   "metadata": {},
   "outputs": [
    {
     "data": {
      "text/plain": [
       "<matplotlib.image.AxesImage at 0x20a9cc9a518>"
      ]
     },
     "execution_count": 28,
     "metadata": {},
     "output_type": "execute_result"
    },
    {
     "data": {
      "image/png": "[encoded data removed]",
      "text/plain": [
       "<Figure size 432x288 with 1 Axes>"
      ]
     },
     "metadata": {
      "needs_background": "light"
     },
     "output_type": "display_data"
    }
   ],
   "source": [
    "#Se pueden calcular predicciones utilizando el modelo\n",
    "predictions = new_model.predict([x_test])\n",
    "import numpy as np\n",
    "#predictions es un ndarray de longitud igual a la cantidad de muestras de prueba.\n",
    "#Cada uno de los elementos de predictions, representa la distribución de probabilidad de los 10 dígitos\n",
    "#Esto es, cada uno de los elementos, a su vez tiene 10 elementos y representa cada uno de éstos la probabilidad de que \n",
    "#la muestra predecida sea determinado dígito."
   ]
  },
  {
   "cell_type": "code",
   "execution_count": 38,
   "metadata": {},
   "outputs": [
    {
     "name": "stdout",
     "output_type": "stream",
     "text": [
      "2\n"
     ]
    },
    {
     "data": {
      "text/plain": [
       "<matplotlib.image.AxesImage at 0x20a9ce1b278>"
      ]
     },
     "execution_count": 38,
     "metadata": {},
     "output_type": "execute_result"
    },
    {
     "data": {
      "image/png": "[encoded data removed]",
      "text/plain": [
       "<Figure size 432x288 with 1 Axes>"
      ]
     },
     "metadata": {
      "needs_background": "light"
     },
     "output_type": "display_data"
    }
   ],
   "source": [
    "elem = 799\n",
    "print(np.argmax(predictions[elem])) #prediciendo\n",
    "plt.imshow(x_test[elem], cmap = plt.cm.binary)"
   ]
  }
 ],
 "metadata": {
  "kernelspec": {
   "display_name": "Python 3",
   "language": "python",
   "name": "python3"
  },
  "language_info": {
   "codemirror_mode": {
    "name": "ipython",
    "version": 3
   },
   "file_extension": ".py",
   "mimetype": "text/x-python",
   "name": "python",
   "nbconvert_exporter": "python",
   "pygments_lexer": "ipython3",
   "version": "3.5.2"
  }
 },
 "nbformat": 4,
 "nbformat_minor": 2
}
